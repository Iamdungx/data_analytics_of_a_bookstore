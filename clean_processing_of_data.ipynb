{
 "cells": [
  {
   "cell_type": "markdown",
   "metadata": {},
   "source": [
    "<img src ='pic\\logo_CNTT.png' width='400px'>\n",
    "<div align=\"center\">\n",
    "<h1> MÔN HỌC: KHOA HỌC DỮ LIỆU (7080509) - HỆ CLC </h1>\n",
    "<h2>Giảng viên giảng dạy: Đặng Văn Nam</h2>\n",
    "\n",
    "---\n",
    "\n",
    "<h2> PROJECT: PHÂN TÍCH DỮ LIỆU 1000 CUỐN SÁCH CỦA MỘT CỬA HÀNG</h2>\n",
    "</div>\n",
    "<img src ='pic\\bookstore.png' width='900px'>\n",
    "\n",
    "---\n",
    "\n",
    "**MÔT TẢ BÀI TOÁN - DỮ LIỆU:** \n",
    "\n",
    "Dữ liệu của 1000 cuốn sách của một cửa hàng sách hư cấu với các thể loại, xếp hạng sao và giá bán khác nhau\n",
    "\n",
    "**Title,Book_category,Star_rating,Price,Stock,Quantity**\n",
    "\n",
    "1. \"Title\"  :  Tiêu đề sách\n",
    "2. \"Book_category\"  :  Thể loại sách\n",
    "3. \"Star_rating\"  :  Xếp hạng sao\n",
    "4. \"Price\"  :  Giá bán của sách theo bảng Anh\n",
    "5. \"Stock\"  :  Tình trạng của sách còn hàng hay không còn hàng\n",
    "6. \"Quantity\"  :  Số lượng sách còn lại\n",
    "\n",
    "**MỤC TIÊU PROJECT:** \n",
    "Thực hiện đọc - phân tích, trực quan hóa tập dữ liệu để trả lời các câu hỏi liên quan? \n",
    "\n",
    "---"
   ]
  },
  {
   "cell_type": "markdown",
   "metadata": {},
   "source": [
    "\n",
    "<img src='pic/question.jfif' width='150px' align='left'>\n",
    "\n",
    "**Câu hỏi 1: Thống kê giá bán sách? Cuốn sách nào có giá bán cao nhất - thấp nhất?**\n",
    "\n",
    "**Câu hỏi 2: Những cuốn sách nào được đánh giá cao nhất - thấp nhất?**\n",
    "\n",
    "**Câu hỏi 3: Thống kê số lượng sách theo từng thể loại? Thể loại nào có số sách nhiều nhất - ít nhất?**\n",
    "\n",
    "**Câu hỏi 4: Thống kê tình trạng sách còn tồn đọng, để đánh giá số liệu?**\n"
   ]
  },
  {
   "cell_type": "markdown",
   "metadata": {},
   "source": [
    "---\n",
    "\n",
    "# Thành viên nhóm: #\n",
    "#### **Bùi Việt Dũng** - 2121050042 - NT ####\n",
    "#### **Nguyễn Hoài Nam** - 2121050849 ####\n",
    "#### **Nguyễn Văn Phương** - 2121050295 ####\n",
    "\n",
    "---"
   ]
  },
  {
   "cell_type": "markdown",
   "metadata": {},
   "source": [
    "## Import Package ##"
   ]
  },
  {
   "cell_type": "code",
   "execution_count": 2,
   "metadata": {},
   "outputs": [
    {
     "name": "stdout",
     "output_type": "stream",
     "text": [
      "Pandas version:  1.4.3\n",
      "Numpy version:  1.21.5\n"
     ]
    }
   ],
   "source": [
    "import pandas as pd\n",
    "import numpy as np\n",
    "import matplotlib.pyplot as plt\n",
    "print('Pandas version: ', pd.__version__)\n",
    "print('Numpy version: ', np.__version__)"
   ]
  },
  {
   "cell_type": "markdown",
   "metadata": {},
   "source": [
    "## 1. Đọc và quan sát dữ liệu\n",
    "---\n",
    "Dữ liệu được lưu trữ trong các file CSV."
   ]
  },
  {
   "cell_type": "code",
   "execution_count": 3,
   "metadata": {},
   "outputs": [
    {
     "name": "stdout",
     "output_type": "stream",
     "text": [
      "<class 'pandas.core.frame.DataFrame'>\n",
      "RangeIndex: 1000 entries, 0 to 999\n",
      "Data columns (total 6 columns):\n",
      " #   Column         Non-Null Count  Dtype  \n",
      "---  ------         --------------  -----  \n",
      " 0   Title          1000 non-null   object \n",
      " 1   Book_category  1000 non-null   object \n",
      " 2   Star_rating    1000 non-null   object \n",
      " 3   Price          1000 non-null   float64\n",
      " 4   Stock          1000 non-null   object \n",
      " 5   Quantity       1000 non-null   int64  \n",
      "dtypes: float64(1), int64(1), object(4)\n",
      "memory usage: 47.0+ KB\n"
     ]
    }
   ],
   "source": [
    "path = \"data/books_scraped.csv\"\n",
    "data_book = pd.read_csv(path)\n",
    "data_book.info()"
   ]
  },
  {
   "cell_type": "markdown",
   "metadata": {},
   "source": [
    "### Hiển thị 5 dòng dữ liệu đầu tiên\n"
   ]
  },
  {
   "cell_type": "code",
   "execution_count": 4,
   "metadata": {},
   "outputs": [
    {
     "data": {
      "text/html": [
       "<div>\n",
       "<style scoped>\n",
       "    .dataframe tbody tr th:only-of-type {\n",
       "        vertical-align: middle;\n",
       "    }\n",
       "\n",
       "    .dataframe tbody tr th {\n",
       "        vertical-align: top;\n",
       "    }\n",
       "\n",
       "    .dataframe thead th {\n",
       "        text-align: right;\n",
       "    }\n",
       "</style>\n",
       "<table border=\"1\" class=\"dataframe\">\n",
       "  <thead>\n",
       "    <tr style=\"text-align: right;\">\n",
       "      <th></th>\n",
       "      <th>Title</th>\n",
       "      <th>Book_category</th>\n",
       "      <th>Star_rating</th>\n",
       "      <th>Price</th>\n",
       "      <th>Stock</th>\n",
       "      <th>Quantity</th>\n",
       "    </tr>\n",
       "  </thead>\n",
       "  <tbody>\n",
       "    <tr>\n",
       "      <th>0</th>\n",
       "      <td>A Light in the Attic</td>\n",
       "      <td>Poetry</td>\n",
       "      <td>Three</td>\n",
       "      <td>51.77</td>\n",
       "      <td>In stock</td>\n",
       "      <td>22</td>\n",
       "    </tr>\n",
       "    <tr>\n",
       "      <th>1</th>\n",
       "      <td>Tipping the Velvet</td>\n",
       "      <td>Historical Fiction</td>\n",
       "      <td>One</td>\n",
       "      <td>53.74</td>\n",
       "      <td>In stock</td>\n",
       "      <td>20</td>\n",
       "    </tr>\n",
       "    <tr>\n",
       "      <th>2</th>\n",
       "      <td>Soumission</td>\n",
       "      <td>Fiction</td>\n",
       "      <td>One</td>\n",
       "      <td>50.10</td>\n",
       "      <td>In stock</td>\n",
       "      <td>20</td>\n",
       "    </tr>\n",
       "    <tr>\n",
       "      <th>3</th>\n",
       "      <td>Sharp Objects</td>\n",
       "      <td>Mystery</td>\n",
       "      <td>Four</td>\n",
       "      <td>47.82</td>\n",
       "      <td>In stock</td>\n",
       "      <td>20</td>\n",
       "    </tr>\n",
       "    <tr>\n",
       "      <th>4</th>\n",
       "      <td>Sapiens: A Brief History of Humankind</td>\n",
       "      <td>History</td>\n",
       "      <td>Five</td>\n",
       "      <td>54.23</td>\n",
       "      <td>In stock</td>\n",
       "      <td>20</td>\n",
       "    </tr>\n",
       "  </tbody>\n",
       "</table>\n",
       "</div>"
      ],
      "text/plain": [
       "                                   Title       Book_category Star_rating  \\\n",
       "0                   A Light in the Attic              Poetry       Three   \n",
       "1                     Tipping the Velvet  Historical Fiction         One   \n",
       "2                             Soumission             Fiction         One   \n",
       "3                          Sharp Objects             Mystery        Four   \n",
       "4  Sapiens: A Brief History of Humankind             History        Five   \n",
       "\n",
       "   Price     Stock  Quantity  \n",
       "0  51.77  In stock        22  \n",
       "1  53.74  In stock        20  \n",
       "2  50.10  In stock        20  \n",
       "3  47.82  In stock        20  \n",
       "4  54.23  In stock        20  "
      ]
     },
     "execution_count": 4,
     "metadata": {},
     "output_type": "execute_result"
    }
   ],
   "source": [
    "data_book.head()"
   ]
  },
  {
   "cell_type": "markdown",
   "metadata": {},
   "source": [
    "### Hiển thị 5 dòng dữ liệu cuối cùng"
   ]
  },
  {
   "cell_type": "code",
   "execution_count": 5,
   "metadata": {
    "scrolled": true
   },
   "outputs": [
    {
     "data": {
      "text/html": [
       "<div>\n",
       "<style scoped>\n",
       "    .dataframe tbody tr th:only-of-type {\n",
       "        vertical-align: middle;\n",
       "    }\n",
       "\n",
       "    .dataframe tbody tr th {\n",
       "        vertical-align: top;\n",
       "    }\n",
       "\n",
       "    .dataframe thead th {\n",
       "        text-align: right;\n",
       "    }\n",
       "</style>\n",
       "<table border=\"1\" class=\"dataframe\">\n",
       "  <thead>\n",
       "    <tr style=\"text-align: right;\">\n",
       "      <th></th>\n",
       "      <th>Title</th>\n",
       "      <th>Book_category</th>\n",
       "      <th>Star_rating</th>\n",
       "      <th>Price</th>\n",
       "      <th>Stock</th>\n",
       "      <th>Quantity</th>\n",
       "    </tr>\n",
       "  </thead>\n",
       "  <tbody>\n",
       "    <tr>\n",
       "      <th>995</th>\n",
       "      <td>Alice in Wonderland (Alice's Adventures in Won...</td>\n",
       "      <td>Classics</td>\n",
       "      <td>One</td>\n",
       "      <td>55.53</td>\n",
       "      <td>In stock</td>\n",
       "      <td>1</td>\n",
       "    </tr>\n",
       "    <tr>\n",
       "      <th>996</th>\n",
       "      <td>Ajin: Demi-Human, Volume 1 (Ajin: Demi-Human #1)</td>\n",
       "      <td>Sequential Art</td>\n",
       "      <td>Four</td>\n",
       "      <td>57.06</td>\n",
       "      <td>In stock</td>\n",
       "      <td>1</td>\n",
       "    </tr>\n",
       "    <tr>\n",
       "      <th>997</th>\n",
       "      <td>A Spy's Devotion (The Regency Spies of London #1)</td>\n",
       "      <td>Historical Fiction</td>\n",
       "      <td>Five</td>\n",
       "      <td>16.97</td>\n",
       "      <td>In stock</td>\n",
       "      <td>1</td>\n",
       "    </tr>\n",
       "    <tr>\n",
       "      <th>998</th>\n",
       "      <td>1st to Die (Women's Murder Club #1)</td>\n",
       "      <td>Mystery</td>\n",
       "      <td>One</td>\n",
       "      <td>53.98</td>\n",
       "      <td>In stock</td>\n",
       "      <td>1</td>\n",
       "    </tr>\n",
       "    <tr>\n",
       "      <th>999</th>\n",
       "      <td>1,000 Places to See Before You Die</td>\n",
       "      <td>Travel</td>\n",
       "      <td>Five</td>\n",
       "      <td>26.08</td>\n",
       "      <td>In stock</td>\n",
       "      <td>1</td>\n",
       "    </tr>\n",
       "  </tbody>\n",
       "</table>\n",
       "</div>"
      ],
      "text/plain": [
       "                                                 Title       Book_category  \\\n",
       "995  Alice in Wonderland (Alice's Adventures in Won...            Classics   \n",
       "996   Ajin: Demi-Human, Volume 1 (Ajin: Demi-Human #1)      Sequential Art   \n",
       "997  A Spy's Devotion (The Regency Spies of London #1)  Historical Fiction   \n",
       "998                1st to Die (Women's Murder Club #1)             Mystery   \n",
       "999                 1,000 Places to See Before You Die              Travel   \n",
       "\n",
       "    Star_rating  Price     Stock  Quantity  \n",
       "995         One  55.53  In stock         1  \n",
       "996        Four  57.06  In stock         1  \n",
       "997        Five  16.97  In stock         1  \n",
       "998         One  53.98  In stock         1  \n",
       "999        Five  26.08  In stock         1  "
      ]
     },
     "execution_count": 5,
     "metadata": {},
     "output_type": "execute_result"
    }
   ],
   "source": [
    "data_book.tail()"
   ]
  },
  {
   "cell_type": "markdown",
   "metadata": {},
   "source": [
    "### Loại bỏ một số thuộc tính không sử dụng trong dữ liệu"
   ]
  },
  {
   "cell_type": "code",
   "execution_count": 6,
   "metadata": {},
   "outputs": [
    {
     "name": "stdout",
     "output_type": "stream",
     "text": [
      "<class 'pandas.core.frame.DataFrame'>\n",
      "RangeIndex: 1000 entries, 0 to 999\n",
      "Data columns (total 5 columns):\n",
      " #   Column         Non-Null Count  Dtype  \n",
      "---  ------         --------------  -----  \n",
      " 0   Title          1000 non-null   object \n",
      " 1   Book_category  1000 non-null   object \n",
      " 2   Star_rating    1000 non-null   object \n",
      " 3   Price          1000 non-null   float64\n",
      " 4   Quantity       1000 non-null   int64  \n",
      "dtypes: float64(1), int64(1), object(3)\n",
      "memory usage: 39.2+ KB\n"
     ]
    }
   ],
   "source": [
    "data_book.drop(['Stock'],axis=1,inplace=True)\n",
    "data_book.info()"
   ]
  },
  {
   "cell_type": "markdown",
   "metadata": {},
   "source": [
    "### Hiển thị các đặc trưng thống kê của dữ liệu số:"
   ]
  },
  {
   "cell_type": "code",
   "execution_count": 7,
   "metadata": {},
   "outputs": [
    {
     "data": {
      "text/html": [
       "<div>\n",
       "<style scoped>\n",
       "    .dataframe tbody tr th:only-of-type {\n",
       "        vertical-align: middle;\n",
       "    }\n",
       "\n",
       "    .dataframe tbody tr th {\n",
       "        vertical-align: top;\n",
       "    }\n",
       "\n",
       "    .dataframe thead th {\n",
       "        text-align: right;\n",
       "    }\n",
       "</style>\n",
       "<table border=\"1\" class=\"dataframe\">\n",
       "  <thead>\n",
       "    <tr style=\"text-align: right;\">\n",
       "      <th></th>\n",
       "      <th>Price</th>\n",
       "      <th>Quantity</th>\n",
       "    </tr>\n",
       "  </thead>\n",
       "  <tbody>\n",
       "    <tr>\n",
       "      <th>count</th>\n",
       "      <td>1000.00000</td>\n",
       "      <td>1000.000000</td>\n",
       "    </tr>\n",
       "    <tr>\n",
       "      <th>mean</th>\n",
       "      <td>35.07035</td>\n",
       "      <td>8.585000</td>\n",
       "    </tr>\n",
       "    <tr>\n",
       "      <th>std</th>\n",
       "      <td>14.44669</td>\n",
       "      <td>5.654622</td>\n",
       "    </tr>\n",
       "    <tr>\n",
       "      <th>min</th>\n",
       "      <td>10.00000</td>\n",
       "      <td>1.000000</td>\n",
       "    </tr>\n",
       "    <tr>\n",
       "      <th>25%</th>\n",
       "      <td>22.10750</td>\n",
       "      <td>3.000000</td>\n",
       "    </tr>\n",
       "    <tr>\n",
       "      <th>50%</th>\n",
       "      <td>35.98000</td>\n",
       "      <td>7.000000</td>\n",
       "    </tr>\n",
       "    <tr>\n",
       "      <th>75%</th>\n",
       "      <td>47.45750</td>\n",
       "      <td>14.000000</td>\n",
       "    </tr>\n",
       "    <tr>\n",
       "      <th>max</th>\n",
       "      <td>59.99000</td>\n",
       "      <td>22.000000</td>\n",
       "    </tr>\n",
       "  </tbody>\n",
       "</table>\n",
       "</div>"
      ],
      "text/plain": [
       "            Price     Quantity\n",
       "count  1000.00000  1000.000000\n",
       "mean     35.07035     8.585000\n",
       "std      14.44669     5.654622\n",
       "min      10.00000     1.000000\n",
       "25%      22.10750     3.000000\n",
       "50%      35.98000     7.000000\n",
       "75%      47.45750    14.000000\n",
       "max      59.99000    22.000000"
      ]
     },
     "execution_count": 7,
     "metadata": {},
     "output_type": "execute_result"
    }
   ],
   "source": [
    "data_book.describe()"
   ]
  },
  {
   "cell_type": "markdown",
   "metadata": {},
   "source": [
    "### Hiển thị các đặc trưng thống kê của dữ liệu khác:\n"
   ]
  },
  {
   "cell_type": "code",
   "execution_count": 8,
   "metadata": {},
   "outputs": [
    {
     "data": {
      "text/html": [
       "<div>\n",
       "<style scoped>\n",
       "    .dataframe tbody tr th:only-of-type {\n",
       "        vertical-align: middle;\n",
       "    }\n",
       "\n",
       "    .dataframe tbody tr th {\n",
       "        vertical-align: top;\n",
       "    }\n",
       "\n",
       "    .dataframe thead th {\n",
       "        text-align: right;\n",
       "    }\n",
       "</style>\n",
       "<table border=\"1\" class=\"dataframe\">\n",
       "  <thead>\n",
       "    <tr style=\"text-align: right;\">\n",
       "      <th></th>\n",
       "      <th>Title</th>\n",
       "      <th>Book_category</th>\n",
       "      <th>Star_rating</th>\n",
       "    </tr>\n",
       "  </thead>\n",
       "  <tbody>\n",
       "    <tr>\n",
       "      <th>count</th>\n",
       "      <td>1000</td>\n",
       "      <td>1000</td>\n",
       "      <td>1000</td>\n",
       "    </tr>\n",
       "    <tr>\n",
       "      <th>unique</th>\n",
       "      <td>999</td>\n",
       "      <td>50</td>\n",
       "      <td>5</td>\n",
       "    </tr>\n",
       "    <tr>\n",
       "      <th>top</th>\n",
       "      <td>The Star-Touched Queen</td>\n",
       "      <td>Default</td>\n",
       "      <td>One</td>\n",
       "    </tr>\n",
       "    <tr>\n",
       "      <th>freq</th>\n",
       "      <td>2</td>\n",
       "      <td>152</td>\n",
       "      <td>226</td>\n",
       "    </tr>\n",
       "  </tbody>\n",
       "</table>\n",
       "</div>"
      ],
      "text/plain": [
       "                         Title Book_category Star_rating\n",
       "count                     1000          1000        1000\n",
       "unique                     999            50           5\n",
       "top     The Star-Touched Queen       Default         One\n",
       "freq                         2           152         226"
      ]
     },
     "execution_count": 8,
     "metadata": {},
     "output_type": "execute_result"
    }
   ],
   "source": [
    "data_book.describe(include='O')"
   ]
  },
  {
   "cell_type": "markdown",
   "metadata": {},
   "source": [
    "### Kiểm tra dữ liệu missing: ==> Không có thuộc tính nào bị missing dữ liệu"
   ]
  },
  {
   "cell_type": "code",
   "execution_count": 9,
   "metadata": {},
   "outputs": [
    {
     "data": {
      "text/plain": [
       "Title            0\n",
       "Book_category    0\n",
       "Star_rating      0\n",
       "Price            0\n",
       "Quantity         0\n",
       "dtype: int64"
      ]
     },
     "execution_count": 9,
     "metadata": {},
     "output_type": "execute_result"
    }
   ],
   "source": [
    "data_book.isnull().sum()"
   ]
  },
  {
   "cell_type": "markdown",
   "metadata": {},
   "source": [
    "### Kiểm tra dữ liệu trùng lặp: ==> Không có bản ghi nào trùng nhau\n"
   ]
  },
  {
   "cell_type": "code",
   "execution_count": 10,
   "metadata": {},
   "outputs": [
    {
     "data": {
      "text/plain": [
       "0"
      ]
     },
     "execution_count": 10,
     "metadata": {},
     "output_type": "execute_result"
    }
   ],
   "source": [
    "data_book.duplicated().sum()"
   ]
  },
  {
   "cell_type": "markdown",
   "metadata": {},
   "source": [
    "### Đổi kiểu dữ liệu của star_rate từ kiểu chữ sang kiểu số\n"
   ]
  },
  {
   "cell_type": "code",
   "execution_count": 11,
   "metadata": {},
   "outputs": [
    {
     "data": {
      "text/html": [
       "<div>\n",
       "<style scoped>\n",
       "    .dataframe tbody tr th:only-of-type {\n",
       "        vertical-align: middle;\n",
       "    }\n",
       "\n",
       "    .dataframe tbody tr th {\n",
       "        vertical-align: top;\n",
       "    }\n",
       "\n",
       "    .dataframe thead th {\n",
       "        text-align: right;\n",
       "    }\n",
       "</style>\n",
       "<table border=\"1\" class=\"dataframe\">\n",
       "  <thead>\n",
       "    <tr style=\"text-align: right;\">\n",
       "      <th></th>\n",
       "      <th>Title</th>\n",
       "      <th>Book_category</th>\n",
       "      <th>Star_rating</th>\n",
       "      <th>Price</th>\n",
       "      <th>Quantity</th>\n",
       "    </tr>\n",
       "  </thead>\n",
       "  <tbody>\n",
       "    <tr>\n",
       "      <th>0</th>\n",
       "      <td>A Light in the Attic</td>\n",
       "      <td>Poetry</td>\n",
       "      <td>3</td>\n",
       "      <td>51.77</td>\n",
       "      <td>22</td>\n",
       "    </tr>\n",
       "    <tr>\n",
       "      <th>1</th>\n",
       "      <td>Tipping the Velvet</td>\n",
       "      <td>Historical Fiction</td>\n",
       "      <td>1</td>\n",
       "      <td>53.74</td>\n",
       "      <td>20</td>\n",
       "    </tr>\n",
       "    <tr>\n",
       "      <th>2</th>\n",
       "      <td>Soumission</td>\n",
       "      <td>Fiction</td>\n",
       "      <td>1</td>\n",
       "      <td>50.10</td>\n",
       "      <td>20</td>\n",
       "    </tr>\n",
       "    <tr>\n",
       "      <th>3</th>\n",
       "      <td>Sharp Objects</td>\n",
       "      <td>Mystery</td>\n",
       "      <td>4</td>\n",
       "      <td>47.82</td>\n",
       "      <td>20</td>\n",
       "    </tr>\n",
       "    <tr>\n",
       "      <th>4</th>\n",
       "      <td>Sapiens: A Brief History of Humankind</td>\n",
       "      <td>History</td>\n",
       "      <td>5</td>\n",
       "      <td>54.23</td>\n",
       "      <td>20</td>\n",
       "    </tr>\n",
       "  </tbody>\n",
       "</table>\n",
       "</div>"
      ],
      "text/plain": [
       "                                   Title       Book_category  Star_rating  \\\n",
       "0                   A Light in the Attic              Poetry            3   \n",
       "1                     Tipping the Velvet  Historical Fiction            1   \n",
       "2                             Soumission             Fiction            1   \n",
       "3                          Sharp Objects             Mystery            4   \n",
       "4  Sapiens: A Brief History of Humankind             History            5   \n",
       "\n",
       "   Price  Quantity  \n",
       "0  51.77        22  \n",
       "1  53.74        20  \n",
       "2  50.10        20  \n",
       "3  47.82        20  \n",
       "4  54.23        20  "
      ]
     },
     "execution_count": 11,
     "metadata": {},
     "output_type": "execute_result"
    }
   ],
   "source": [
    "star_rate = {'One': 1,\n",
    "             'Two': 2, \n",
    "             'Three': 3,\n",
    "             'Four': 4, \n",
    "             'Five': 5}\n",
    "data_book['Star_rating'].replace(star_rate, inplace=True)\n",
    "data_book.head()"
   ]
  },
  {
   "cell_type": "markdown",
   "metadata": {},
   "source": [
    "### Hiển thị lại các đặc trưng thống kê của dữ liệu số:\n"
   ]
  },
  {
   "cell_type": "code",
   "execution_count": 12,
   "metadata": {},
   "outputs": [
    {
     "data": {
      "text/html": [
       "<div>\n",
       "<style scoped>\n",
       "    .dataframe tbody tr th:only-of-type {\n",
       "        vertical-align: middle;\n",
       "    }\n",
       "\n",
       "    .dataframe tbody tr th {\n",
       "        vertical-align: top;\n",
       "    }\n",
       "\n",
       "    .dataframe thead th {\n",
       "        text-align: right;\n",
       "    }\n",
       "</style>\n",
       "<table border=\"1\" class=\"dataframe\">\n",
       "  <thead>\n",
       "    <tr style=\"text-align: right;\">\n",
       "      <th></th>\n",
       "      <th>Star_rating</th>\n",
       "      <th>Price</th>\n",
       "      <th>Quantity</th>\n",
       "    </tr>\n",
       "  </thead>\n",
       "  <tbody>\n",
       "    <tr>\n",
       "      <th>count</th>\n",
       "      <td>1000.000000</td>\n",
       "      <td>1000.00000</td>\n",
       "      <td>1000.000000</td>\n",
       "    </tr>\n",
       "    <tr>\n",
       "      <th>mean</th>\n",
       "      <td>2.923000</td>\n",
       "      <td>35.07035</td>\n",
       "      <td>8.585000</td>\n",
       "    </tr>\n",
       "    <tr>\n",
       "      <th>std</th>\n",
       "      <td>1.434967</td>\n",
       "      <td>14.44669</td>\n",
       "      <td>5.654622</td>\n",
       "    </tr>\n",
       "    <tr>\n",
       "      <th>min</th>\n",
       "      <td>1.000000</td>\n",
       "      <td>10.00000</td>\n",
       "      <td>1.000000</td>\n",
       "    </tr>\n",
       "    <tr>\n",
       "      <th>25%</th>\n",
       "      <td>2.000000</td>\n",
       "      <td>22.10750</td>\n",
       "      <td>3.000000</td>\n",
       "    </tr>\n",
       "    <tr>\n",
       "      <th>50%</th>\n",
       "      <td>3.000000</td>\n",
       "      <td>35.98000</td>\n",
       "      <td>7.000000</td>\n",
       "    </tr>\n",
       "    <tr>\n",
       "      <th>75%</th>\n",
       "      <td>4.000000</td>\n",
       "      <td>47.45750</td>\n",
       "      <td>14.000000</td>\n",
       "    </tr>\n",
       "    <tr>\n",
       "      <th>max</th>\n",
       "      <td>5.000000</td>\n",
       "      <td>59.99000</td>\n",
       "      <td>22.000000</td>\n",
       "    </tr>\n",
       "  </tbody>\n",
       "</table>\n",
       "</div>"
      ],
      "text/plain": [
       "       Star_rating       Price     Quantity\n",
       "count  1000.000000  1000.00000  1000.000000\n",
       "mean      2.923000    35.07035     8.585000\n",
       "std       1.434967    14.44669     5.654622\n",
       "min       1.000000    10.00000     1.000000\n",
       "25%       2.000000    22.10750     3.000000\n",
       "50%       3.000000    35.98000     7.000000\n",
       "75%       4.000000    47.45750    14.000000\n",
       "max       5.000000    59.99000    22.000000"
      ]
     },
     "execution_count": 12,
     "metadata": {},
     "output_type": "execute_result"
    }
   ],
   "source": [
    "data_book.describe()"
   ]
  },
  {
   "cell_type": "markdown",
   "metadata": {},
   "source": [
    "### Hiển thị lại các đặc trưng thống kê của dữ liệu khác:\n"
   ]
  },
  {
   "cell_type": "code",
   "execution_count": 13,
   "metadata": {
    "scrolled": true
   },
   "outputs": [
    {
     "data": {
      "text/html": [
       "<div>\n",
       "<style scoped>\n",
       "    .dataframe tbody tr th:only-of-type {\n",
       "        vertical-align: middle;\n",
       "    }\n",
       "\n",
       "    .dataframe tbody tr th {\n",
       "        vertical-align: top;\n",
       "    }\n",
       "\n",
       "    .dataframe thead th {\n",
       "        text-align: right;\n",
       "    }\n",
       "</style>\n",
       "<table border=\"1\" class=\"dataframe\">\n",
       "  <thead>\n",
       "    <tr style=\"text-align: right;\">\n",
       "      <th></th>\n",
       "      <th>Title</th>\n",
       "      <th>Book_category</th>\n",
       "    </tr>\n",
       "  </thead>\n",
       "  <tbody>\n",
       "    <tr>\n",
       "      <th>count</th>\n",
       "      <td>1000</td>\n",
       "      <td>1000</td>\n",
       "    </tr>\n",
       "    <tr>\n",
       "      <th>unique</th>\n",
       "      <td>999</td>\n",
       "      <td>50</td>\n",
       "    </tr>\n",
       "    <tr>\n",
       "      <th>top</th>\n",
       "      <td>The Star-Touched Queen</td>\n",
       "      <td>Default</td>\n",
       "    </tr>\n",
       "    <tr>\n",
       "      <th>freq</th>\n",
       "      <td>2</td>\n",
       "      <td>152</td>\n",
       "    </tr>\n",
       "  </tbody>\n",
       "</table>\n",
       "</div>"
      ],
      "text/plain": [
       "                         Title Book_category\n",
       "count                     1000          1000\n",
       "unique                     999            50\n",
       "top     The Star-Touched Queen       Default\n",
       "freq                         2           152"
      ]
     },
     "execution_count": 13,
     "metadata": {},
     "output_type": "execute_result"
    }
   ],
   "source": [
    "data_book.describe(include='O')"
   ]
  },
  {
   "cell_type": "markdown",
   "metadata": {},
   "source": [
    "## 2. Phân tích và Thống kê dữ liệu"
   ]
  },
  {
   "cell_type": "code",
   "execution_count": 76,
   "metadata": {},
   "outputs": [],
   "source": [
    "#Hàm hiển thị text trên biểu đồ cột:\n",
    "def label_bar(bar_plot,bar_label):\n",
    "    for idx,rect in enumerate(bar_plot):\n",
    "        height = rect.get_height()\n",
    "        plt.text(rect.get_x() + rect.get_width()/2., 1.005*height,\n",
    "                bar_label[idx],\n",
    "                ha='center', va='bottom', rotation=0)"
   ]
  },
  {
   "cell_type": "markdown",
   "metadata": {},
   "source": [
    "### Câu hỏi 1: Thống kê giá bán sách? Cuốn sách nào có giá bán cao nhất - thấp nhất?"
   ]
  },
  {
   "cell_type": "code",
   "execution_count": 14,
   "metadata": {},
   "outputs": [
    {
     "data": {
      "text/plain": [
       "count    1000.00000\n",
       "mean       35.07035\n",
       "std        14.44669\n",
       "min        10.00000\n",
       "25%        22.10750\n",
       "50%        35.98000\n",
       "75%        47.45750\n",
       "max        59.99000\n",
       "Name: Price, dtype: float64"
      ]
     },
     "execution_count": 14,
     "metadata": {},
     "output_type": "execute_result"
    }
   ],
   "source": [
    "#Số liệu thống kê về giá bán sách\n",
    "data_book['Price'].describe()"
   ]
  },
  {
   "cell_type": "code",
   "execution_count": 69,
   "metadata": {},
   "outputs": [
    {
     "data": {
      "text/plain": [
       "403"
      ]
     },
     "execution_count": 69,
     "metadata": {},
     "output_type": "execute_result"
    }
   ],
   "source": [
    "#Số lượng sách có giá bán trên 40 bảng Anh\n",
    "high_price = data_book[data_book['Price'] > 40]['Title'].count()\n",
    "high_price"
   ]
  },
  {
   "cell_type": "code",
   "execution_count": 70,
   "metadata": {
    "scrolled": true
   },
   "outputs": [
    {
     "data": {
      "text/plain": [
       "196"
      ]
     },
     "execution_count": 70,
     "metadata": {},
     "output_type": "execute_result"
    }
   ],
   "source": [
    "#Số lượng sách có giá bán dưới 20 bảng Anh\n",
    "low_price = data_book[data_book['Price'] < 20]['Title'].count()\n",
    "low_price"
   ]
  },
  {
   "cell_type": "code",
   "execution_count": 93,
   "metadata": {},
   "outputs": [
    {
     "data": {
      "image/png": "[encoded data removed]",
      "text/plain": [
       "<Figure size 720x720 with 1 Axes>"
      ]
     },
     "metadata": {
      "needs_background": "light"
     },
     "output_type": "display_data"
    }
   ],
   "source": [
    "#Trực quan hóa dữ liệu thống kê số lượng sách có giá bán trên 40 bảng Anh và số lượng sách có giá bán dưới 20 bảng Anh\n",
    "x = ['> 40', '< 20']\n",
    "y = [high_price, low_price]\n",
    "plt.figure(figsize = (10,10))\n",
    "plt.title('BIỂU ĐỒ THỐNG KÊ SỐ SÁCH CÓ GIÁ BÁN TRÊN 40 BẢNG ANH VÀ DƯỚI 20 BẢNG ANH', fontsize=16)\n",
    "price_bar = plt.bar(x, y, color ='green')\n",
    "label_bar(price_bar, y)\n",
    "plt.grid(axis='y', ls='--')\n",
    "plt.show()"
   ]
  },
  {
   "cell_type": "code",
   "execution_count": 15,
   "metadata": {},
   "outputs": [
    {
     "data": {
      "text/html": [
       "<div>\n",
       "<style scoped>\n",
       "    .dataframe tbody tr th:only-of-type {\n",
       "        vertical-align: middle;\n",
       "    }\n",
       "\n",
       "    .dataframe tbody tr th {\n",
       "        vertical-align: top;\n",
       "    }\n",
       "\n",
       "    .dataframe thead th {\n",
       "        text-align: right;\n",
       "    }\n",
       "</style>\n",
       "<table border=\"1\" class=\"dataframe\">\n",
       "  <thead>\n",
       "    <tr style=\"text-align: right;\">\n",
       "      <th></th>\n",
       "      <th>Title</th>\n",
       "      <th>Book_category</th>\n",
       "      <th>Star_rating</th>\n",
       "      <th>Price</th>\n",
       "      <th>Quantity</th>\n",
       "    </tr>\n",
       "  </thead>\n",
       "  <tbody>\n",
       "    <tr>\n",
       "      <th>648</th>\n",
       "      <td>The Perfect Play (Play by Play #1)</td>\n",
       "      <td>Romance</td>\n",
       "      <td>3</td>\n",
       "      <td>59.99</td>\n",
       "      <td>4</td>\n",
       "    </tr>\n",
       "  </tbody>\n",
       "</table>\n",
       "</div>"
      ],
      "text/plain": [
       "                                  Title Book_category  Star_rating  Price  \\\n",
       "648  The Perfect Play (Play by Play #1)       Romance            3  59.99   \n",
       "\n",
       "     Quantity  \n",
       "648         4  "
      ]
     },
     "execution_count": 15,
     "metadata": {},
     "output_type": "execute_result"
    }
   ],
   "source": [
    "#Sách có giá bán cao nhất\n",
    "data_book[data_book['Price']==data_book['Price'].max()]"
   ]
  },
  {
   "cell_type": "code",
   "execution_count": 16,
   "metadata": {},
   "outputs": [
    {
     "data": {
      "text/html": [
       "<div>\n",
       "<style scoped>\n",
       "    .dataframe tbody tr th:only-of-type {\n",
       "        vertical-align: middle;\n",
       "    }\n",
       "\n",
       "    .dataframe tbody tr th {\n",
       "        vertical-align: top;\n",
       "    }\n",
       "\n",
       "    .dataframe thead th {\n",
       "        text-align: right;\n",
       "    }\n",
       "</style>\n",
       "<table border=\"1\" class=\"dataframe\">\n",
       "  <thead>\n",
       "    <tr style=\"text-align: right;\">\n",
       "      <th></th>\n",
       "      <th>Title</th>\n",
       "      <th>Book_category</th>\n",
       "      <th>Star_rating</th>\n",
       "      <th>Price</th>\n",
       "      <th>Quantity</th>\n",
       "    </tr>\n",
       "  </thead>\n",
       "  <tbody>\n",
       "    <tr>\n",
       "      <th>638</th>\n",
       "      <td>An Abundance of Katherines</td>\n",
       "      <td>Young Adult</td>\n",
       "      <td>5</td>\n",
       "      <td>10.0</td>\n",
       "      <td>5</td>\n",
       "    </tr>\n",
       "  </tbody>\n",
       "</table>\n",
       "</div>"
      ],
      "text/plain": [
       "                          Title Book_category  Star_rating  Price  Quantity\n",
       "638  An Abundance of Katherines   Young Adult            5   10.0         5"
      ]
     },
     "execution_count": 16,
     "metadata": {},
     "output_type": "execute_result"
    }
   ],
   "source": [
    "#Sách có giá bán thấp nhất\n",
    "data_book[data_book['Price']==data_book['Price'].min()]"
   ]
  },
  {
   "cell_type": "markdown",
   "metadata": {},
   "source": [
    "<img src='pic/insight.png' width='200px' align='left'>\n",
    "\n",
    "**NHẬN XÉT:**\n",
    "* Giá bán trung bình của 1000 cuốn sách là 35.07 bảng Anh\n",
    "* Gần nửa số sách của cửa hàng có giá bán trên 40 bảng Anh\n",
    "* Cuốn sách có giá bán cao nhất là \"The Perfect Play (Play by Play #1)\" với giá 59.99 bảng Anh\n",
    "* Cuốn sách có giá bán thấp nhất là \"An Abundance of Katherines\" với giá 10.0 bảng Anh"
   ]
  },
  {
   "cell_type": "markdown",
   "metadata": {},
   "source": [
    "### Câu hỏi 2: Những cuốn sách nào được đánh giá cao nhất - thấp nhất?"
   ]
  },
  {
   "cell_type": "code",
   "execution_count": 80,
   "metadata": {
    "scrolled": false
   },
   "outputs": [
    {
     "data": {
      "text/plain": [
       "1    226\n",
       "2    196\n",
       "3    203\n",
       "4    179\n",
       "5    196\n",
       "Name: Star_rating, dtype: int64"
      ]
     },
     "execution_count": 80,
     "metadata": {},
     "output_type": "execute_result"
    }
   ],
   "source": [
    "#Số liệu thống kê về lượt đánh giá\n",
    "book_rate = data_book['Star_rating'].value_counts().sort_index()\n",
    "book_rate"
   ]
  },
  {
   "cell_type": "code",
   "execution_count": 102,
   "metadata": {},
   "outputs": [
    {
     "data": {
      "image/png": "[encoded data removed]",
      "text/plain": [
       "<Figure size 1008x1008 with 1 Axes>"
      ]
     },
     "metadata": {
      "needs_background": "light"
     },
     "output_type": "display_data"
    }
   ],
   "source": [
    "#Trực quan hóa dữ liệu thống kê số lượng sách theo số sao đánh giá\n",
    "plt.figure(figsize=(14,14))\n",
    "rate_bar = plt.bar(book_rate.index, book_rate.values, color='gray')\n",
    "rate_bar[0].set_color('brown')\n",
    "rate_bar[3].set_color('green')\n",
    "plt.title('BIỂU ĐỒ THỐNG KÊ LƯỢT ĐÁNH GIÁ', fontsize=16)\n",
    "plt.ylabel('Số cuốn sách', fontsize=16)\n",
    "plt.xlabel('Số sao đánh giá', fontsize=16)\n",
    "label_bar(rate_bar, book_rate.values)\n",
    "plt.grid(axis='y', ls='--')\n",
    "plt.show()"
   ]
  },
  {
   "cell_type": "markdown",
   "metadata": {},
   "source": [
    "<img src='pic/insight.png' width='350px' align='left'>\n",
    "\n",
    "**NHẬN XÉT:**\n",
    "* Trong 1000 cuốn sách thì số sách có lượt đánh giá 1 sao là nhiều nhất (226 cuốn sách), điển hình một số cuốn sách có đánh giá 1 sao như: \"Tipping the Velvet\", \"Soumission\", \"The Requiem Red\", \"The Black Maria\", \"Olio\"...\n",
    "* Trong 1000 cuốn sách thì số sách có lượt đánh giá 4 sao là ít nhất (179 cuốn sách), một số cuốn sách có đánh giá 4 sao như: \"Sharp Objects\", \"Bounty (Colorado Mountain # 7)\", \"Wall and Piece\", \"Shakespeare's Sonnets\", \"Giant Days, Vol. 1 (Giant Days # 1-4)\"...\n",
    "* Mặc dù có nhiều cuốn sách có lượt đánh giá 1 sao nhưng sự chênh lệch số sao đánh giá giữa các cuốn sách là không nhiều và số cuốn sách có đánh giá 5 sao vẫn có gần 200 cuốn (196 cuốn sách)"
   ]
  },
  {
   "cell_type": "markdown",
   "metadata": {},
   "source": [
    "### Câu hỏi 3: Thống kê số lượng sách theo từng thể loại? Thể loại nào có số sách nhiều nhất - ít nhất?"
   ]
  },
  {
   "cell_type": "markdown",
   "metadata": {},
   "source": [
    "#### Số liệu thống kê về thể loại sách"
   ]
  },
  {
   "cell_type": "code",
   "execution_count": 95,
   "metadata": {},
   "outputs": [
    {
     "data": {
      "text/plain": [
       "Default               152\n",
       "Nonfiction            110\n",
       "Sequential Art         75\n",
       "Add a comment          67\n",
       "Fiction                65\n",
       "Young Adult            54\n",
       "Fantasy                48\n",
       "Romance                35\n",
       "Mystery                32\n",
       "Food and Drink         30\n",
       "Childrens              29\n",
       "Historical Fiction     26\n",
       "Poetry                 19\n",
       "Classics               19\n",
       "History                18\n",
       "Horror                 17\n",
       "Womens Fiction         17\n",
       "Science Fiction        16\n",
       "Science                14\n",
       "Music                  13\n",
       "Business               12\n",
       "Thriller               11\n",
       "Travel                 11\n",
       "Philosophy             11\n",
       "Humor                  10\n",
       "Autobiography           9\n",
       "Art                     8\n",
       "Psychology              7\n",
       "Religion                7\n",
       "Spirituality            6\n",
       "Christian Fiction       6\n",
       "New Adult               6\n",
       "Sports and Games        5\n",
       "Biography               5\n",
       "Self Help               5\n",
       "Health                  4\n",
       "Christian               3\n",
       "Politics                3\n",
       "Contemporary            3\n",
       "Historical              2\n",
       "Crime                   1\n",
       "Erotica                 1\n",
       "Cultural                1\n",
       "Novels                  1\n",
       "Short Stories           1\n",
       "Suspense                1\n",
       "Academic                1\n",
       "Adult Fiction           1\n",
       "Parenting               1\n",
       "Paranormal              1\n",
       "Name: Book_category, dtype: int64"
      ]
     },
     "execution_count": 95,
     "metadata": {},
     "output_type": "execute_result"
    }
   ],
   "source": [
    "category = data_book['Book_category'].value_counts()\n",
    "category"
   ]
  },
  {
   "cell_type": "code",
   "execution_count": 23,
   "metadata": {},
   "outputs": [
    {
     "data": {
      "text/plain": [
       "count        1000\n",
       "unique         50\n",
       "top       Default\n",
       "freq          152\n",
       "Name: Book_category, dtype: object"
      ]
     },
     "execution_count": 23,
     "metadata": {},
     "output_type": "execute_result"
    }
   ],
   "source": [
    "data_book['Book_category'].describe()"
   ]
  },
  {
   "cell_type": "markdown",
   "metadata": {},
   "source": [
    "#### Trực quan hóa dữ liệu thống kê số lượng sách theo thể loại sách"
   ]
  },
  {
   "cell_type": "code",
   "execution_count": 104,
   "metadata": {},
   "outputs": [
    {
     "data": {
      "image/png": "[encoded data removed]",
      "text/plain": [
       "<Figure size 1224x2160 with 1 Axes>"
      ]
     },
     "metadata": {
      "needs_background": "light"
     },
     "output_type": "display_data"
    }
   ],
   "source": [
    "plt.figure(figsize = (17, 30))\n",
    "category_bar = plt.barh(category.index, category.values)\n",
    "for i in range (40,50):\n",
    "    category_bar[i].set_color('green')\n",
    "category_bar[0].set_color('red')\n",
    "category_bar[1].set_color('red')\n",
    "plt.title('BIỂU ĐỒ THỐNG KÊ THỂ LOẠI SÁCH', fontsize=16)\n",
    "plt.xlabel('Số lượng sách', fontsize=16)\n",
    "plt.ylabel('Thể loại', fontsize=16)\n",
    "plt.grid(axis='x', ls='--')\n",
    "plt.show()"
   ]
  },
  {
   "cell_type": "markdown",
   "metadata": {},
   "source": [
    "<img src='pic/insight.png' width='200px' align='left'>\n",
    "\n",
    "**NHẬN XÉT:**\n",
    "* 2 thể loại sách có số lượng sách nhiều nhất là \"Default\" với 152 cuốn sách và \"Nonfiction\" với 110 cuốn sách\n",
    "* Các thể loại sách có số lượng sách ít nhất với 1 cuốn sách là: \"Crime, Erotica, Cultural, Novels, Short Stories, Suspense, Academic, Adult Fiction, Parenting, Paranormal\""
   ]
  },
  {
   "cell_type": "markdown",
   "metadata": {},
   "source": [
    "### Câu hỏi 4: Thống kê tình trạng sách còn tồn đọng, để đánh giá số liệu?"
   ]
  },
  {
   "cell_type": "code",
   "execution_count": 25,
   "metadata": {
    "scrolled": false
   },
   "outputs": [
    {
     "data": {
      "text/html": [
       "<div>\n",
       "<style scoped>\n",
       "    .dataframe tbody tr th:only-of-type {\n",
       "        vertical-align: middle;\n",
       "    }\n",
       "\n",
       "    .dataframe tbody tr th {\n",
       "        vertical-align: top;\n",
       "    }\n",
       "\n",
       "    .dataframe thead th {\n",
       "        text-align: right;\n",
       "    }\n",
       "</style>\n",
       "<table border=\"1\" class=\"dataframe\">\n",
       "  <thead>\n",
       "    <tr style=\"text-align: right;\">\n",
       "      <th></th>\n",
       "      <th>Title</th>\n",
       "      <th>Quantity</th>\n",
       "      <th>Star_rating</th>\n",
       "    </tr>\n",
       "  </thead>\n",
       "  <tbody>\n",
       "    <tr>\n",
       "      <th>0</th>\n",
       "      <td>A Light in the Attic</td>\n",
       "      <td>22</td>\n",
       "      <td>3</td>\n",
       "    </tr>\n",
       "    <tr>\n",
       "      <th>1</th>\n",
       "      <td>Tipping the Velvet</td>\n",
       "      <td>20</td>\n",
       "      <td>1</td>\n",
       "    </tr>\n",
       "    <tr>\n",
       "      <th>2</th>\n",
       "      <td>Soumission</td>\n",
       "      <td>20</td>\n",
       "      <td>1</td>\n",
       "    </tr>\n",
       "    <tr>\n",
       "      <th>3</th>\n",
       "      <td>Sharp Objects</td>\n",
       "      <td>20</td>\n",
       "      <td>4</td>\n",
       "    </tr>\n",
       "    <tr>\n",
       "      <th>4</th>\n",
       "      <td>Sapiens: A Brief History of Humankind</td>\n",
       "      <td>20</td>\n",
       "      <td>5</td>\n",
       "    </tr>\n",
       "    <tr>\n",
       "      <th>...</th>\n",
       "      <td>...</td>\n",
       "      <td>...</td>\n",
       "      <td>...</td>\n",
       "    </tr>\n",
       "    <tr>\n",
       "      <th>995</th>\n",
       "      <td>Alice in Wonderland (Alice's Adventures in Won...</td>\n",
       "      <td>1</td>\n",
       "      <td>1</td>\n",
       "    </tr>\n",
       "    <tr>\n",
       "      <th>996</th>\n",
       "      <td>Ajin: Demi-Human, Volume 1 (Ajin: Demi-Human #1)</td>\n",
       "      <td>1</td>\n",
       "      <td>4</td>\n",
       "    </tr>\n",
       "    <tr>\n",
       "      <th>997</th>\n",
       "      <td>A Spy's Devotion (The Regency Spies of London #1)</td>\n",
       "      <td>1</td>\n",
       "      <td>5</td>\n",
       "    </tr>\n",
       "    <tr>\n",
       "      <th>998</th>\n",
       "      <td>1st to Die (Women's Murder Club #1)</td>\n",
       "      <td>1</td>\n",
       "      <td>1</td>\n",
       "    </tr>\n",
       "    <tr>\n",
       "      <th>999</th>\n",
       "      <td>1,000 Places to See Before You Die</td>\n",
       "      <td>1</td>\n",
       "      <td>5</td>\n",
       "    </tr>\n",
       "  </tbody>\n",
       "</table>\n",
       "<p>1000 rows × 3 columns</p>\n",
       "</div>"
      ],
      "text/plain": [
       "                                                 Title  Quantity  Star_rating\n",
       "0                                 A Light in the Attic        22            3\n",
       "1                                   Tipping the Velvet        20            1\n",
       "2                                           Soumission        20            1\n",
       "3                                        Sharp Objects        20            4\n",
       "4                Sapiens: A Brief History of Humankind        20            5\n",
       "..                                                 ...       ...          ...\n",
       "995  Alice in Wonderland (Alice's Adventures in Won...         1            1\n",
       "996   Ajin: Demi-Human, Volume 1 (Ajin: Demi-Human #1)         1            4\n",
       "997  A Spy's Devotion (The Regency Spies of London #1)         1            5\n",
       "998                1st to Die (Women's Murder Club #1)         1            1\n",
       "999                 1,000 Places to See Before You Die         1            5\n",
       "\n",
       "[1000 rows x 3 columns]"
      ]
     },
     "execution_count": 25,
     "metadata": {},
     "output_type": "execute_result"
    }
   ],
   "source": [
    "data_book[[ 'Title', 'Quantity', 'Star_rating']]"
   ]
  },
  {
   "cell_type": "markdown",
   "metadata": {},
   "source": [
    "#### Thống kê những loại sách còn tồn đọng nhiều hơn 15 cuốn"
   ]
  },
  {
   "cell_type": "code",
   "execution_count": 112,
   "metadata": {},
   "outputs": [
    {
     "data": {
      "text/html": [
       "<div>\n",
       "<style scoped>\n",
       "    .dataframe tbody tr th:only-of-type {\n",
       "        vertical-align: middle;\n",
       "    }\n",
       "\n",
       "    .dataframe tbody tr th {\n",
       "        vertical-align: top;\n",
       "    }\n",
       "\n",
       "    .dataframe thead th {\n",
       "        text-align: right;\n",
       "    }\n",
       "</style>\n",
       "<table border=\"1\" class=\"dataframe\">\n",
       "  <thead>\n",
       "    <tr style=\"text-align: right;\">\n",
       "      <th></th>\n",
       "      <th>Title</th>\n",
       "      <th>Book_category</th>\n",
       "      <th>Star_rating</th>\n",
       "      <th>Price</th>\n",
       "      <th>Quantity</th>\n",
       "    </tr>\n",
       "  </thead>\n",
       "  <tbody>\n",
       "    <tr>\n",
       "      <th>0</th>\n",
       "      <td>A Light in the Attic</td>\n",
       "      <td>Poetry</td>\n",
       "      <td>3</td>\n",
       "      <td>51.77</td>\n",
       "      <td>22</td>\n",
       "    </tr>\n",
       "    <tr>\n",
       "      <th>1</th>\n",
       "      <td>Tipping the Velvet</td>\n",
       "      <td>Historical Fiction</td>\n",
       "      <td>1</td>\n",
       "      <td>53.74</td>\n",
       "      <td>20</td>\n",
       "    </tr>\n",
       "    <tr>\n",
       "      <th>2</th>\n",
       "      <td>Soumission</td>\n",
       "      <td>Fiction</td>\n",
       "      <td>1</td>\n",
       "      <td>50.10</td>\n",
       "      <td>20</td>\n",
       "    </tr>\n",
       "    <tr>\n",
       "      <th>3</th>\n",
       "      <td>Sharp Objects</td>\n",
       "      <td>Mystery</td>\n",
       "      <td>4</td>\n",
       "      <td>47.82</td>\n",
       "      <td>20</td>\n",
       "    </tr>\n",
       "    <tr>\n",
       "      <th>4</th>\n",
       "      <td>Sapiens: A Brief History of Humankind</td>\n",
       "      <td>History</td>\n",
       "      <td>5</td>\n",
       "      <td>54.23</td>\n",
       "      <td>20</td>\n",
       "    </tr>\n",
       "    <tr>\n",
       "      <th>...</th>\n",
       "      <td>...</td>\n",
       "      <td>...</td>\n",
       "      <td>...</td>\n",
       "      <td>...</td>\n",
       "      <td>...</td>\n",
       "    </tr>\n",
       "    <tr>\n",
       "      <th>210</th>\n",
       "      <td>Anonymous</td>\n",
       "      <td>Default</td>\n",
       "      <td>4</td>\n",
       "      <td>46.82</td>\n",
       "      <td>15</td>\n",
       "    </tr>\n",
       "    <tr>\n",
       "      <th>211</th>\n",
       "      <td>Amy Meets the Saints and Sages</td>\n",
       "      <td>Default</td>\n",
       "      <td>3</td>\n",
       "      <td>18.46</td>\n",
       "      <td>15</td>\n",
       "    </tr>\n",
       "    <tr>\n",
       "      <th>212</th>\n",
       "      <td>Amid the Chaos</td>\n",
       "      <td>Cultural</td>\n",
       "      <td>1</td>\n",
       "      <td>36.58</td>\n",
       "      <td>15</td>\n",
       "    </tr>\n",
       "    <tr>\n",
       "      <th>213</th>\n",
       "      <td>Amatus</td>\n",
       "      <td>Default</td>\n",
       "      <td>5</td>\n",
       "      <td>50.54</td>\n",
       "      <td>15</td>\n",
       "    </tr>\n",
       "    <tr>\n",
       "      <th>214</th>\n",
       "      <td>Agnostic: A Spirited Manifesto</td>\n",
       "      <td>Nonfiction</td>\n",
       "      <td>5</td>\n",
       "      <td>12.51</td>\n",
       "      <td>15</td>\n",
       "    </tr>\n",
       "  </tbody>\n",
       "</table>\n",
       "<p>215 rows × 5 columns</p>\n",
       "</div>"
      ],
      "text/plain": [
       "                                     Title       Book_category  Star_rating  \\\n",
       "0                     A Light in the Attic              Poetry            3   \n",
       "1                       Tipping the Velvet  Historical Fiction            1   \n",
       "2                               Soumission             Fiction            1   \n",
       "3                            Sharp Objects             Mystery            4   \n",
       "4    Sapiens: A Brief History of Humankind             History            5   \n",
       "..                                     ...                 ...          ...   \n",
       "210                              Anonymous             Default            4   \n",
       "211         Amy Meets the Saints and Sages             Default            3   \n",
       "212                         Amid the Chaos            Cultural            1   \n",
       "213                                 Amatus             Default            5   \n",
       "214         Agnostic: A Spirited Manifesto          Nonfiction            5   \n",
       "\n",
       "     Price  Quantity  \n",
       "0    51.77        22  \n",
       "1    53.74        20  \n",
       "2    50.10        20  \n",
       "3    47.82        20  \n",
       "4    54.23        20  \n",
       "..     ...       ...  \n",
       "210  46.82        15  \n",
       "211  18.46        15  \n",
       "212  36.58        15  \n",
       "213  50.54        15  \n",
       "214  12.51        15  \n",
       "\n",
       "[215 rows x 5 columns]"
      ]
     },
     "execution_count": 112,
     "metadata": {},
     "output_type": "execute_result"
    }
   ],
   "source": [
    "high_quantity = data_book[data_book['Quantity']>=15]\n",
    "high_quantity"
   ]
  },
  {
   "cell_type": "markdown",
   "metadata": {},
   "source": [
    "###### Lọc ra những cuốn sách có đánh giá 5 sao trong khuôn khổ những cuốn còn tồn đọng đã lọc."
   ]
  },
  {
   "cell_type": "code",
   "execution_count": 113,
   "metadata": {},
   "outputs": [
    {
     "data": {
      "text/html": [
       "<div>\n",
       "<style scoped>\n",
       "    .dataframe tbody tr th:only-of-type {\n",
       "        vertical-align: middle;\n",
       "    }\n",
       "\n",
       "    .dataframe tbody tr th {\n",
       "        vertical-align: top;\n",
       "    }\n",
       "\n",
       "    .dataframe thead th {\n",
       "        text-align: right;\n",
       "    }\n",
       "</style>\n",
       "<table border=\"1\" class=\"dataframe\">\n",
       "  <thead>\n",
       "    <tr style=\"text-align: right;\">\n",
       "      <th></th>\n",
       "      <th>Title</th>\n",
       "      <th>Book_category</th>\n",
       "      <th>Star_rating</th>\n",
       "      <th>Price</th>\n",
       "      <th>Quantity</th>\n",
       "    </tr>\n",
       "  </thead>\n",
       "  <tbody>\n",
       "    <tr>\n",
       "      <th>4</th>\n",
       "      <td>Sapiens: A Brief History of Humankind</td>\n",
       "      <td>History</td>\n",
       "      <td>5</td>\n",
       "      <td>54.23</td>\n",
       "      <td>20</td>\n",
       "    </tr>\n",
       "    <tr>\n",
       "      <th>12</th>\n",
       "      <td>Set Me Free</td>\n",
       "      <td>Young Adult</td>\n",
       "      <td>5</td>\n",
       "      <td>17.46</td>\n",
       "      <td>19</td>\n",
       "    </tr>\n",
       "    <tr>\n",
       "      <th>13</th>\n",
       "      <td>Scott Pilgrim's Precious Little Life (Scott Pi...</td>\n",
       "      <td>Sequential Art</td>\n",
       "      <td>5</td>\n",
       "      <td>52.29</td>\n",
       "      <td>19</td>\n",
       "    </tr>\n",
       "    <tr>\n",
       "      <th>14</th>\n",
       "      <td>Rip it Up and Start Again</td>\n",
       "      <td>Music</td>\n",
       "      <td>5</td>\n",
       "      <td>35.02</td>\n",
       "      <td>19</td>\n",
       "    </tr>\n",
       "    <tr>\n",
       "      <th>23</th>\n",
       "      <td>Chase Me (Paris Nights #2)</td>\n",
       "      <td>Romance</td>\n",
       "      <td>5</td>\n",
       "      <td>25.27</td>\n",
       "      <td>19</td>\n",
       "    </tr>\n",
       "    <tr>\n",
       "      <th>24</th>\n",
       "      <td>Black Dust</td>\n",
       "      <td>Romance</td>\n",
       "      <td>5</td>\n",
       "      <td>34.53</td>\n",
       "      <td>19</td>\n",
       "    </tr>\n",
       "    <tr>\n",
       "      <th>28</th>\n",
       "      <td>Worlds Elsewhere: Journeys Around Shakespeareâ...</td>\n",
       "      <td>Nonfiction</td>\n",
       "      <td>5</td>\n",
       "      <td>40.30</td>\n",
       "      <td>18</td>\n",
       "    </tr>\n",
       "    <tr>\n",
       "      <th>30</th>\n",
       "      <td>The Four Agreements: A Practical Guide to Pers...</td>\n",
       "      <td>Spirituality</td>\n",
       "      <td>5</td>\n",
       "      <td>17.66</td>\n",
       "      <td>18</td>\n",
       "    </tr>\n",
       "    <tr>\n",
       "      <th>32</th>\n",
       "      <td>The Elephant Tree</td>\n",
       "      <td>Thriller</td>\n",
       "      <td>5</td>\n",
       "      <td>23.82</td>\n",
       "      <td>18</td>\n",
       "    </tr>\n",
       "    <tr>\n",
       "      <th>34</th>\n",
       "      <td>Sophie's World</td>\n",
       "      <td>Philosophy</td>\n",
       "      <td>5</td>\n",
       "      <td>15.94</td>\n",
       "      <td>18</td>\n",
       "    </tr>\n",
       "    <tr>\n",
       "      <th>42</th>\n",
       "      <td>Private Paris (Private #10)</td>\n",
       "      <td>Fiction</td>\n",
       "      <td>5</td>\n",
       "      <td>47.61</td>\n",
       "      <td>17</td>\n",
       "    </tr>\n",
       "    <tr>\n",
       "      <th>43</th>\n",
       "      <td>#HigherSelfie: Wake Up Your Life. Free Your So...</td>\n",
       "      <td>Nonfiction</td>\n",
       "      <td>5</td>\n",
       "      <td>23.11</td>\n",
       "      <td>17</td>\n",
       "    </tr>\n",
       "    <tr>\n",
       "      <th>46</th>\n",
       "      <td>We Love You, Charlie Freeman</td>\n",
       "      <td>Fiction</td>\n",
       "      <td>5</td>\n",
       "      <td>50.27</td>\n",
       "      <td>16</td>\n",
       "    </tr>\n",
       "    <tr>\n",
       "      <th>54</th>\n",
       "      <td>Thirst</td>\n",
       "      <td>Fiction</td>\n",
       "      <td>5</td>\n",
       "      <td>17.27</td>\n",
       "      <td>16</td>\n",
       "    </tr>\n",
       "    <tr>\n",
       "      <th>65</th>\n",
       "      <td>The Inefficiency Assassin: Time Management Tac...</td>\n",
       "      <td>Default</td>\n",
       "      <td>5</td>\n",
       "      <td>20.59</td>\n",
       "      <td>16</td>\n",
       "    </tr>\n",
       "    <tr>\n",
       "      <th>72</th>\n",
       "      <td>The Activist's Tao Te Ching: Ancient Advice fo...</td>\n",
       "      <td>Spirituality</td>\n",
       "      <td>5</td>\n",
       "      <td>32.24</td>\n",
       "      <td>16</td>\n",
       "    </tr>\n",
       "    <tr>\n",
       "      <th>80</th>\n",
       "      <td>Princess Jellyfish 2-in-1 Omnibus, Vol. 01 (Pr...</td>\n",
       "      <td>Sequential Art</td>\n",
       "      <td>5</td>\n",
       "      <td>13.61</td>\n",
       "      <td>16</td>\n",
       "    </tr>\n",
       "    <tr>\n",
       "      <th>81</th>\n",
       "      <td>Princess Between Worlds (Wide-Awake Princess #5)</td>\n",
       "      <td>Fantasy</td>\n",
       "      <td>5</td>\n",
       "      <td>13.34</td>\n",
       "      <td>16</td>\n",
       "    </tr>\n",
       "    <tr>\n",
       "      <th>98</th>\n",
       "      <td>Join</td>\n",
       "      <td>Science Fiction</td>\n",
       "      <td>5</td>\n",
       "      <td>35.67</td>\n",
       "      <td>16</td>\n",
       "    </tr>\n",
       "    <tr>\n",
       "      <th>100</th>\n",
       "      <td>Immunity: How Elie Metchnikoff Changed the Cou...</td>\n",
       "      <td>Science</td>\n",
       "      <td>5</td>\n",
       "      <td>57.36</td>\n",
       "      <td>16</td>\n",
       "    </tr>\n",
       "    <tr>\n",
       "      <th>115</th>\n",
       "      <td>Call the Nurse: True Stories of a Country Nurs...</td>\n",
       "      <td>Nonfiction</td>\n",
       "      <td>5</td>\n",
       "      <td>29.14</td>\n",
       "      <td>16</td>\n",
       "    </tr>\n",
       "    <tr>\n",
       "      <th>122</th>\n",
       "      <td>A Piece of Sky, a Grain of Rice: A Memoir in F...</td>\n",
       "      <td>Default</td>\n",
       "      <td>5</td>\n",
       "      <td>56.76</td>\n",
       "      <td>16</td>\n",
       "    </tr>\n",
       "    <tr>\n",
       "      <th>124</th>\n",
       "      <td>A Flight of Arrows (The Pathfinders #2)</td>\n",
       "      <td>Historical Fiction</td>\n",
       "      <td>5</td>\n",
       "      <td>55.53</td>\n",
       "      <td>16</td>\n",
       "    </tr>\n",
       "    <tr>\n",
       "      <th>127</th>\n",
       "      <td>(Un)Qualified: How God Uses Broken People to D...</td>\n",
       "      <td>Christian</td>\n",
       "      <td>5</td>\n",
       "      <td>54.00</td>\n",
       "      <td>16</td>\n",
       "    </tr>\n",
       "    <tr>\n",
       "      <th>138</th>\n",
       "      <td>The Third Wave: An Entrepreneurâs Vision of ...</td>\n",
       "      <td>Business</td>\n",
       "      <td>5</td>\n",
       "      <td>12.61</td>\n",
       "      <td>15</td>\n",
       "    </tr>\n",
       "    <tr>\n",
       "      <th>142</th>\n",
       "      <td>The Regional Office Is Under Attack!</td>\n",
       "      <td>Fiction</td>\n",
       "      <td>5</td>\n",
       "      <td>51.36</td>\n",
       "      <td>15</td>\n",
       "    </tr>\n",
       "    <tr>\n",
       "      <th>147</th>\n",
       "      <td>The Nerdy Nummies Cookbook: Sweet Treats for t...</td>\n",
       "      <td>Food and Drink</td>\n",
       "      <td>5</td>\n",
       "      <td>37.34</td>\n",
       "      <td>15</td>\n",
       "    </tr>\n",
       "    <tr>\n",
       "      <th>161</th>\n",
       "      <td>The Artist's Way: A Spiritual Path to Higher C...</td>\n",
       "      <td>Nonfiction</td>\n",
       "      <td>5</td>\n",
       "      <td>38.49</td>\n",
       "      <td>15</td>\n",
       "    </tr>\n",
       "    <tr>\n",
       "      <th>162</th>\n",
       "      <td>The Art of War</td>\n",
       "      <td>Default</td>\n",
       "      <td>5</td>\n",
       "      <td>33.34</td>\n",
       "      <td>15</td>\n",
       "    </tr>\n",
       "    <tr>\n",
       "      <th>172</th>\n",
       "      <td>Scarlett Epstein Hates It Here</td>\n",
       "      <td>Young Adult</td>\n",
       "      <td>5</td>\n",
       "      <td>43.55</td>\n",
       "      <td>15</td>\n",
       "    </tr>\n",
       "    <tr>\n",
       "      <th>174</th>\n",
       "      <td>Redeeming Love</td>\n",
       "      <td>Christian Fiction</td>\n",
       "      <td>5</td>\n",
       "      <td>20.47</td>\n",
       "      <td>15</td>\n",
       "    </tr>\n",
       "    <tr>\n",
       "      <th>179</th>\n",
       "      <td>Mrs. Houdini</td>\n",
       "      <td>Historical Fiction</td>\n",
       "      <td>5</td>\n",
       "      <td>30.25</td>\n",
       "      <td>15</td>\n",
       "    </tr>\n",
       "    <tr>\n",
       "      <th>180</th>\n",
       "      <td>Modern Romance</td>\n",
       "      <td>Add a comment</td>\n",
       "      <td>5</td>\n",
       "      <td>28.26</td>\n",
       "      <td>15</td>\n",
       "    </tr>\n",
       "    <tr>\n",
       "      <th>184</th>\n",
       "      <td>Library of Souls (Miss Peregrineâs Peculiar ...</td>\n",
       "      <td>Young Adult</td>\n",
       "      <td>5</td>\n",
       "      <td>48.56</td>\n",
       "      <td>15</td>\n",
       "    </tr>\n",
       "    <tr>\n",
       "      <th>190</th>\n",
       "      <td>Frostbite (Vampire Academy #2)</td>\n",
       "      <td>Young Adult</td>\n",
       "      <td>5</td>\n",
       "      <td>29.99</td>\n",
       "      <td>15</td>\n",
       "    </tr>\n",
       "    <tr>\n",
       "      <th>193</th>\n",
       "      <td>Finders Keepers (Bill Hodges Trilogy #2)</td>\n",
       "      <td>Fiction</td>\n",
       "      <td>5</td>\n",
       "      <td>53.53</td>\n",
       "      <td>15</td>\n",
       "    </tr>\n",
       "    <tr>\n",
       "      <th>197</th>\n",
       "      <td>Done Rubbed Out (Reightman &amp; Bailey #1)</td>\n",
       "      <td>Default</td>\n",
       "      <td>5</td>\n",
       "      <td>37.72</td>\n",
       "      <td>15</td>\n",
       "    </tr>\n",
       "    <tr>\n",
       "      <th>200</th>\n",
       "      <td>Dark Notes</td>\n",
       "      <td>Erotica</td>\n",
       "      <td>5</td>\n",
       "      <td>19.19</td>\n",
       "      <td>15</td>\n",
       "    </tr>\n",
       "    <tr>\n",
       "      <th>208</th>\n",
       "      <td>Batman: The Dark Knight Returns (Batman)</td>\n",
       "      <td>Sequential Art</td>\n",
       "      <td>5</td>\n",
       "      <td>15.38</td>\n",
       "      <td>15</td>\n",
       "    </tr>\n",
       "    <tr>\n",
       "      <th>213</th>\n",
       "      <td>Amatus</td>\n",
       "      <td>Default</td>\n",
       "      <td>5</td>\n",
       "      <td>50.54</td>\n",
       "      <td>15</td>\n",
       "    </tr>\n",
       "    <tr>\n",
       "      <th>214</th>\n",
       "      <td>Agnostic: A Spirited Manifesto</td>\n",
       "      <td>Nonfiction</td>\n",
       "      <td>5</td>\n",
       "      <td>12.51</td>\n",
       "      <td>15</td>\n",
       "    </tr>\n",
       "  </tbody>\n",
       "</table>\n",
       "</div>"
      ],
      "text/plain": [
       "                                                 Title       Book_category  \\\n",
       "4                Sapiens: A Brief History of Humankind             History   \n",
       "12                                         Set Me Free         Young Adult   \n",
       "13   Scott Pilgrim's Precious Little Life (Scott Pi...      Sequential Art   \n",
       "14                           Rip it Up and Start Again               Music   \n",
       "23                          Chase Me (Paris Nights #2)             Romance   \n",
       "24                                          Black Dust             Romance   \n",
       "28   Worlds Elsewhere: Journeys Around Shakespeareâ...          Nonfiction   \n",
       "30   The Four Agreements: A Practical Guide to Pers...        Spirituality   \n",
       "32                                   The Elephant Tree            Thriller   \n",
       "34                                      Sophie's World          Philosophy   \n",
       "42                         Private Paris (Private #10)             Fiction   \n",
       "43   #HigherSelfie: Wake Up Your Life. Free Your So...          Nonfiction   \n",
       "46                        We Love You, Charlie Freeman             Fiction   \n",
       "54                                              Thirst             Fiction   \n",
       "65   The Inefficiency Assassin: Time Management Tac...             Default   \n",
       "72   The Activist's Tao Te Ching: Ancient Advice fo...        Spirituality   \n",
       "80   Princess Jellyfish 2-in-1 Omnibus, Vol. 01 (Pr...      Sequential Art   \n",
       "81    Princess Between Worlds (Wide-Awake Princess #5)             Fantasy   \n",
       "98                                                Join     Science Fiction   \n",
       "100  Immunity: How Elie Metchnikoff Changed the Cou...             Science   \n",
       "115  Call the Nurse: True Stories of a Country Nurs...          Nonfiction   \n",
       "122  A Piece of Sky, a Grain of Rice: A Memoir in F...             Default   \n",
       "124            A Flight of Arrows (The Pathfinders #2)  Historical Fiction   \n",
       "127  (Un)Qualified: How God Uses Broken People to D...           Christian   \n",
       "138  The Third Wave: An Entrepreneurâs Vision of ...            Business   \n",
       "142               The Regional Office Is Under Attack!             Fiction   \n",
       "147  The Nerdy Nummies Cookbook: Sweet Treats for t...      Food and Drink   \n",
       "161  The Artist's Way: A Spiritual Path to Higher C...          Nonfiction   \n",
       "162                                     The Art of War             Default   \n",
       "172                     Scarlett Epstein Hates It Here         Young Adult   \n",
       "174                                     Redeeming Love   Christian Fiction   \n",
       "179                                       Mrs. Houdini  Historical Fiction   \n",
       "180                                     Modern Romance       Add a comment   \n",
       "184  Library of Souls (Miss Peregrineâs Peculiar ...         Young Adult   \n",
       "190                     Frostbite (Vampire Academy #2)         Young Adult   \n",
       "193           Finders Keepers (Bill Hodges Trilogy #2)             Fiction   \n",
       "197            Done Rubbed Out (Reightman & Bailey #1)             Default   \n",
       "200                                         Dark Notes             Erotica   \n",
       "208           Batman: The Dark Knight Returns (Batman)      Sequential Art   \n",
       "213                                             Amatus             Default   \n",
       "214                     Agnostic: A Spirited Manifesto          Nonfiction   \n",
       "\n",
       "     Star_rating  Price  Quantity  \n",
       "4              5  54.23        20  \n",
       "12             5  17.46        19  \n",
       "13             5  52.29        19  \n",
       "14             5  35.02        19  \n",
       "23             5  25.27        19  \n",
       "24             5  34.53        19  \n",
       "28             5  40.30        18  \n",
       "30             5  17.66        18  \n",
       "32             5  23.82        18  \n",
       "34             5  15.94        18  \n",
       "42             5  47.61        17  \n",
       "43             5  23.11        17  \n",
       "46             5  50.27        16  \n",
       "54             5  17.27        16  \n",
       "65             5  20.59        16  \n",
       "72             5  32.24        16  \n",
       "80             5  13.61        16  \n",
       "81             5  13.34        16  \n",
       "98             5  35.67        16  \n",
       "100            5  57.36        16  \n",
       "115            5  29.14        16  \n",
       "122            5  56.76        16  \n",
       "124            5  55.53        16  \n",
       "127            5  54.00        16  \n",
       "138            5  12.61        15  \n",
       "142            5  51.36        15  \n",
       "147            5  37.34        15  \n",
       "161            5  38.49        15  \n",
       "162            5  33.34        15  \n",
       "172            5  43.55        15  \n",
       "174            5  20.47        15  \n",
       "179            5  30.25        15  \n",
       "180            5  28.26        15  \n",
       "184            5  48.56        15  \n",
       "190            5  29.99        15  \n",
       "193            5  53.53        15  \n",
       "197            5  37.72        15  \n",
       "200            5  19.19        15  \n",
       "208            5  15.38        15  \n",
       "213            5  50.54        15  \n",
       "214            5  12.51        15  "
      ]
     },
     "execution_count": 113,
     "metadata": {},
     "output_type": "execute_result"
    }
   ],
   "source": [
    "high_quantity_1 = high_quantity[high_quantity['Star_rating']==5]\n",
    "high_quantity_1"
   ]
  },
  {
   "cell_type": "code",
   "execution_count": 114,
   "metadata": {},
   "outputs": [
    {
     "name": "stdout",
     "output_type": "stream",
     "text": [
      "Số lượng sách được đánh giá 5 sao còn tồn đọng nhiều:  41\n"
     ]
    }
   ],
   "source": [
    "empty_not_five_star = high_quantity_1['Title'].count()\n",
    "print('Số lượng sách được đánh giá 5 sao còn tồn đọng nhiều: ', empty_not_five_star)"
   ]
  },
  {
   "cell_type": "markdown",
   "metadata": {},
   "source": [
    "<img src='pic/insight.png' width='250px' align='left'>\n",
    "\n",
    "**NHẬN XÉT:**\n",
    "\n",
    "1. Giải pháp giải quyết các loại sách trong kho còn tồn đọng nhiều trên 15 cuốn có đánh giá rất tốt (5 Sao):\n",
    "  * Có thể sách không quá hợp với đa số người dùng \n",
    "    => có thể quảng bá những loại sách trên để hướng tới những người dùng hợp với sách\n",
    "  * Có thể cuốn sách rất hay, đa số người dùng đều thích nhưng có thể giá thành đang quá cao\n",
    "    => Có thể đưa ra các khuyến mãi dành riêng cho các loại sách này"
   ]
  },
  {
   "cell_type": "code",
   "execution_count": null,
   "metadata": {},
   "outputs": [],
   "source": []
  }
 ],
 "metadata": {
  "kernelspec": {
   "display_name": "Python 3",
   "language": "python",
   "name": "python3"
  },
  "language_info": {
   "codemirror_mode": {
    "name": "ipython",
    "version": 3
   },
   "file_extension": ".py",
   "mimetype": "text/x-python",
   "name": "python",
   "nbconvert_exporter": "python",
   "pygments_lexer": "ipython3",
   "version": "3.8.8"
  },
  "vscode": {
   "interpreter": {
    "hash": "c42d99d755d00efaf066b964ceed011a4027ae5af520c8ef8190b9acee3a6094"
   }
  }
 },
 "nbformat": 4,
 "nbformat_minor": 4
}
