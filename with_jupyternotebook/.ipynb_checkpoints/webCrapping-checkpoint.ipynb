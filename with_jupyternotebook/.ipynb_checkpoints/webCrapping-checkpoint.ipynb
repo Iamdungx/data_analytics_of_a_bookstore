{
 "cells": [
  {
   "cell_type": "markdown",
   "id": "59a33797",
   "metadata": {},
   "source": [
    "# Test Project"
   ]
  },
  {
   "cell_type": "markdown",
   "id": "aead66ee",
   "metadata": {},
   "source": [
    "<h3>Importing packages<h3>\n",
    "    "
   ]
  },
  {
   "cell_type": "code",
   "execution_count": 2,
   "id": "6496cc3e",
   "metadata": {},
   "outputs": [],
   "source": [
    "from bs4 import BeautifulSoup\n",
    "import requests\n",
    "import re\n",
    "import pandas as pd\n",
    "import time"
   ]
  },
  {
   "cell_type": "markdown",
   "id": "8b42d2be",
   "metadata": {},
   "source": [
    "<h3>Tracking performance. Tracking time to scrap each page<h3>"
   ]
  },
  {
   "cell_type": "code",
   "execution_count": 3,
   "id": "cf799dd3",
   "metadata": {},
   "outputs": [],
   "source": [
    "start_time = time.time()\n",
    "page_counter = 0"
   ]
  },
  {
   "cell_type": "markdown",
   "id": "d18a7fb0",
   "metadata": {},
   "source": [
    "<h3>Creating empty lists to store data in<h3>"
   ]
  },
  {
   "cell_type": "code",
   "execution_count": 4,
   "id": "8cff9526",
   "metadata": {},
   "outputs": [],
   "source": [
    "book_list = []\n",
    "price_list = []\n",
    "stock_list = []\n",
    "star_list = []\n",
    "num_available = []\n",
    "category_list = []"
   ]
  },
  {
   "cell_type": "markdown",
   "id": "46df0f3a",
   "metadata": {},
   "source": [
    "<h3>Requesting pages to scrap<h3>"
   ]
  },
  {
   "cell_type": "code",
   "execution_count": 5,
   "id": "e51ea8ad",
   "metadata": {},
   "outputs": [],
   "source": [
    "html_text = requests.get('http://books.toscrape.com/catalogue/page-1.html').text\n",
    "soup = BeautifulSoup(html_text, 'lxml')\n",
    "button = soup.find('li', class_='next')\n",
    "pager=button.text"
   ]
  },
  {
   "cell_type": "markdown",
   "id": "9918a789",
   "metadata": {},
   "source": [
    "<h3>Wrapping the code in  a function<h3>"
   ]
  },
  {
   "cell_type": "code",
   "execution_count": 6,
   "id": "8637689e",
   "metadata": {},
   "outputs": [],
   "source": [
    "def find_books():\n",
    "    books = soup.find_all('li', class_='col-xs-6 col-sm-4 col-md-3 col-lg-3')    \n",
    "    for book in books:\n",
    "        book_title = book.article.h3.a['title']\n",
    "        book_price_pound = book.article.find('div', class_='product_price').p.text\n",
    "        book_price =re.findall('£([0-9.0]+)', book_price_pound) \n",
    "        avail=book.article.find('div', class_='product_price').find('p', class_='instock availability').text.strip()\n",
    "        stars = book.article.p['class']\n",
    "        star = stars[1]\n",
    "        \n",
    "        #Storing data in empty lists\n",
    "        book_list.append(book_title)\n",
    "        price_list.append(float(book_price[0]))\n",
    "        stock_list.append(avail)\n",
    "        star_list.append(star)\n",
    "        \n",
    "        #Checking quantity of books available\n",
    "        book_link = requests.get('http://books.toscrape.com/catalogue/'+book.article.h3.a['href']).text\n",
    "        url = book_link\n",
    "        soup2 = BeautifulSoup(url, 'lxml')\n",
    "        stock_avail = soup2.find('p', class_='instock availability').text.strip()\n",
    "        \n",
    "        #Using regular expression to isolate numerical values\n",
    "        stock_nums = re.findall('[0-9]+', stock_avail)\n",
    "        stock_num = stock_nums[0]\n",
    "        num_available.append(stock_num)\n",
    "        \n",
    "        #Scraping book catergory\n",
    "        cnt=0\n",
    "        category = soup2.find_all('li')\n",
    "        for i in category:\n",
    "            cnt+=1\n",
    "            #Book's category is number 3 on the list\n",
    "            if cnt ==3:\n",
    "                category_list.append(i.text.strip())"
   ]
  },
  {
   "cell_type": "markdown",
   "id": "893bfffb",
   "metadata": {},
   "source": [
    "<h3>A function to run the program as long as there in 'next' page to scrap<h3>"
   ]
  },
  {
   "cell_type": "code",
   "execution_count": null,
   "id": "93f01a22",
   "metadata": {},
   "outputs": [
    {
     "name": "stdout",
     "output_type": "stream",
     "text": [
      "Page #:  1\n",
      "Minutes:  4.865206849575043\n",
      "Page #:  2\n",
      "Minutes:  5.080256946881613\n",
      "Page #:  3\n",
      "Minutes:  5.29583603143692\n",
      "Page #:  4\n",
      "Minutes:  5.524510331948599\n",
      "Page #:  5\n",
      "Minutes:  5.745488500595092\n",
      "Page #:  6\n",
      "Minutes:  5.962447468439738\n",
      "Page #:  7\n",
      "Minutes:  6.180831968784332\n",
      "Page #:  8\n",
      "Minutes:  6.417035349210104\n",
      "Page #:  9\n",
      "Minutes:  6.631955254077911\n",
      "Page #:  10\n",
      "Minutes:  6.855706652005513\n",
      "Page #:  11\n",
      "Minutes:  7.082362353801727\n",
      "Page #:  12\n",
      "Minutes:  7.290508496761322\n",
      "Page #:  13\n",
      "Minutes:  7.506614450613657\n",
      "Page #:  14\n",
      "Minutes:  7.736362214883169\n",
      "Page #:  15\n",
      "Minutes:  7.942484215895335\n",
      "Page #:  16\n",
      "Minutes:  8.150375747680664\n",
      "Page #:  17\n",
      "Minutes:  8.367390831311544\n",
      "Page #:  18\n",
      "Minutes:  8.589207764466604\n",
      "Page #:  19\n",
      "Minutes:  8.805688412984212\n",
      "Page #:  20\n",
      "Minutes:  9.013869416713714\n",
      "Page #:  21\n",
      "Minutes:  9.238473665714263\n",
      "Page #:  22\n",
      "Minutes:  9.46244033575058\n",
      "Page #:  23\n",
      "Minutes:  9.681581886609395\n",
      "Page #:  24\n",
      "Minutes:  9.890226765473683\n",
      "Page #:  25\n",
      "Minutes:  10.116606251398723\n",
      "Page #:  26\n",
      "Minutes:  10.324068268140158\n",
      "Page #:  27\n",
      "Minutes:  10.542498167355856\n"
     ]
    }
   ],
   "source": [
    "if __name__ =='__main__':\n",
    "    while pager == 'next':\n",
    "        #Tracking Performance\n",
    "        page_counter+=1\n",
    "        end_time = time.time()\n",
    "        seconds = end_time - start_time\n",
    "        minutes = seconds/60\n",
    "        print('Page #: ', page_counter)\n",
    "        print('Minutes: ', minutes)\n",
    "        \n",
    "        \n",
    "        #Requesting multiple pages if available. If no more pages, break\n",
    "        try:\n",
    "            find_books()\n",
    "            button = soup.find('li', class_='next')\n",
    "            next_page = button.a['href']\n",
    "            url = 'http://books.toscrape.com/catalogue/'+str(next_page)\n",
    "            pager=button.text\n",
    "            html_text = requests.get(url).text\n",
    "            soup = BeautifulSoup(html_text, 'lxml')\n",
    "            \n",
    "            \n",
    "        except:\n",
    "            print('Done')\n",
    "            pager = 'last'\n",
    "            break"
   ]
  },
  {
   "cell_type": "markdown",
   "id": "2f6f55b1",
   "metadata": {},
   "source": [
    "<h3>Merging lists to create a dataframe<h3>"
   ]
  },
  {
   "cell_type": "code",
   "execution_count": null,
   "id": "36bde7e0",
   "metadata": {},
   "outputs": [],
   "source": [
    "dataset = pd.DataFrame(list(zip(book_list, category_list,star_list,price_list,stock_list,num_available)), columns = ['Title','Book_category','Star_rating', 'Price', 'Stock', 'Quantity'])\n",
    "print(dataset)"
   ]
  },
  {
   "cell_type": "markdown",
   "id": "c955cb7c",
   "metadata": {},
   "source": [
    "<h3>Saving my Dataset to csv<h3>"
   ]
  },
  {
   "cell_type": "code",
   "execution_count": null,
   "id": "2813f9c9",
   "metadata": {},
   "outputs": [],
   "source": [
    "dataset.to_csv('Link to save file .csv',sep=',', index=False)"
   ]
  }
 ],
 "metadata": {
  "kernelspec": {
   "display_name": "Python 3 (ipykernel)",
   "language": "python",
   "name": "python3"
  },
  "language_info": {
   "codemirror_mode": {
    "name": "ipython",
    "version": 3
   },
   "file_extension": ".py",
   "mimetype": "text/x-python",
   "name": "python",
   "nbconvert_exporter": "python",
   "pygments_lexer": "ipython3",
   "version": "3.9.12"
  }
 },
 "nbformat": 4,
 "nbformat_minor": 5
}
